{
 "cells": [
  {
   "cell_type": "code",
   "execution_count": 1,
   "id": "c2e3c5ff",
   "metadata": {},
   "outputs": [],
   "source": [
    "import os"
   ]
  },
  {
   "cell_type": "code",
   "execution_count": 2,
   "id": "13d5e513",
   "metadata": {},
   "outputs": [],
   "source": [
    "if not os.path.isdir(\"Images\"):\n",
    "    os.mkdir(\"Images\")\n",
    "    \n",
    "file_list = os.listdir(\"./Yoga-82/yoga_dataset_links\");\n"
   ]
  },
  {
   "cell_type": "code",
   "execution_count": null,
   "id": "546b64aa",
   "metadata": {},
   "outputs": [
    {
     "data": {
      "application/vnd.jupyter.widget-view+json": {
       "model_id": "f2a33a1154254e3c9fa0926b0bfc5792",
       "version_major": 2,
       "version_minor": 0
      },
      "text/plain": [
       "  0%|          | 0/83 [00:00<?, ?it/s]"
      ]
     },
     "metadata": {},
     "output_type": "display_data"
    },
    {
     "data": {
      "application/vnd.jupyter.widget-view+json": {
       "model_id": "5799e81db32e4d3095ae95df912dc131",
       "version_major": 2,
       "version_minor": 0
      },
      "text/plain": [
       "  0%|          | 0/928 [00:00<?, ?it/s]"
      ]
     },
     "metadata": {},
     "output_type": "display_data"
    },
    {
     "name": "stdout",
     "output_type": "stream",
     "text": [
      "Error with: Sitting pose 1 (normal)/1_608.jpg\n",
      "Error rate: 0.5\n",
      "Error with: Sitting pose 1 (normal)/1_604.jpg\n",
      "Error rate: 0.4\n",
      "Error with: Sitting pose 1 (normal)/1_602.jpg\n",
      "Error rate: 0.42857142857142855\n",
      "Error with: Sitting pose 1 (normal)/1_592.jpg\n",
      "Error rate: 0.3076923076923077\n"
     ]
    }
   ],
   "source": [
    "from PIL import Image\n",
    "from tqdm.notebook import tqdm\n",
    "\n",
    "image_counter = 0\n",
    "error_counter = 0\n",
    "\n",
    "for i in tqdm(range(len(file_list))):\n",
    "    f = open(\"Yoga-82/yoga_dataset_links/\" + file_list[i], 'r');\n",
    "    lines = f.readlines();\n",
    "    f.close();\n",
    "    \n",
    "    for j in tqdm(range(len(lines))):\n",
    "        image_counter += 1\n",
    "        #print(lines[j])\n",
    "        splits = lines[j].split('\\t')\n",
    "        img_path = splits[0];\n",
    "        link = splits[1].rstrip('\\n');\n",
    "        \n",
    "        folder_name, img_name = img_path.split(\"/\");\n",
    "        if(j == 0):\n",
    "            if(not os.path.isdir(\"Images/\" + folder_name)):\n",
    "                os.mkdir(\"Images/\" + folder_name)\n",
    "        os.system(\"wget -O '\" + \"./Images/\" + folder_name + \"/\" + img_name + \"' \" + link + \" --tries=5\")\n",
    "        try:\n",
    "            img = Image.open(\"./Images/\" + folder_name + \"/\" + img_name)\n",
    "            img.verify()     # to veify if its an img\n",
    "            img.close()     #to close img and free memory space\n",
    "        except (IOError, SyntaxError) as e:\n",
    "            print(\"Error with:\", img_path)\n",
    "            error_counter +=1\n",
    "            print(\"Error rate:\", error_counter / image_counter)\n"
   ]
  },
  {
   "cell_type": "code",
   "execution_count": null,
   "id": "d3ae80d4",
   "metadata": {},
   "outputs": [],
   "source": [
    "! mkdir Test"
   ]
  },
  {
   "cell_type": "code",
   "execution_count": null,
   "id": "8cfd0e77",
   "metadata": {},
   "outputs": [],
   "source": [
    "# test data            \n",
    "f = open(\"Yoga-82/yoga_test.txt\");\n",
    "lines = f.readlines();\n",
    "f.close();"
   ]
  },
  {
   "cell_type": "code",
   "execution_count": null,
   "id": "9f183d05",
   "metadata": {},
   "outputs": [],
   "source": [
    "import os\n",
    "from tqdm.notebook import tqdm\n",
    "\n",
    "for i in tqdm(range(len(lines))):\n",
    "    folder_name, img_name = lines[i].split(\",\")[0].split(\"/\");\n",
    "    if(not os.path.isdir(\"Test/\" + folder_name)):\n",
    "        os.mkdir(\"Test/\" + folder_name);\n",
    "    os.system(\"mv \" + \"Images/\" + folder_name + \"/\" + img_name + \" Test/\" + folder_name + \"/\")"
   ]
  }
 ],
 "metadata": {
  "kernelspec": {
   "display_name": "Python 3",
   "language": "python3",
   "name": "python3"
  },
  "language_info": {
   "codemirror_mode": {
    "name": "ipython",
    "version": 3
   },
   "file_extension": ".py",
   "mimetype": "text/x-python",
   "name": "python",
   "nbconvert_exporter": "python",
   "pygments_lexer": "ipython3",
   "version": "3.8.8"
  }
 },
 "nbformat": 4,
 "nbformat_minor": 5
}
