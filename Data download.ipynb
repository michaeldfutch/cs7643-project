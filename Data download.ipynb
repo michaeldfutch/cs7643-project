{
 "cells": [
  {
   "cell_type": "code",
   "execution_count": 3,
   "id": "c2e3c5ff",
   "metadata": {},
   "outputs": [],
   "source": [
    "import os"
   ]
  },
  {
   "cell_type": "code",
   "execution_count": 4,
   "id": "13d5e513",
   "metadata": {},
   "outputs": [],
   "source": [
    "if not os.path.isdir(\"Images\"):\n",
    "    os.mkdir(\"Images\")\n",
    "    \n",
    "file_list = os.listdir(\"./Yoga-82/yoga_dataset_links\");\n"
   ]
  },
  {
   "cell_type": "code",
   "execution_count": null,
   "id": "546b64aa",
   "metadata": {},
   "outputs": [
    {
     "data": {
      "application/vnd.jupyter.widget-view+json": {
       "model_id": "8fa746ebc9f44850b490ac20a3504de3",
       "version_major": 2,
       "version_minor": 0
      },
      "text/plain": [
       "  0%|          | 0/83 [00:00<?, ?it/s]"
      ]
     },
     "metadata": {},
     "output_type": "display_data"
    },
    {
     "data": {
      "application/vnd.jupyter.widget-view+json": {
       "model_id": "8ef54360ce524d89a53ca854ece32c8a",
       "version_major": 2,
       "version_minor": 0
      },
      "text/plain": [
       "  0%|          | 0/928 [00:00<?, ?it/s]"
      ]
     },
     "metadata": {},
     "output_type": "display_data"
    },
    {
     "name": "stdout",
     "output_type": "stream",
     "text": [
      "Error with: Sitting pose 1 (normal)/1_608.jpg\n",
      "Error rate: 0.5\n",
      "Error with: Sitting pose 1 (normal)/1_604.jpg\n",
      "Error rate: 0.4\n",
      "Error with: Sitting pose 1 (normal)/1_602.jpg\n",
      "Error rate: 0.42857142857142855\n",
      "Error with: Sitting pose 1 (normal)/1_592.jpg\n",
      "Error rate: 0.3076923076923077\n",
      "Error with: Sitting pose 1 (normal)/1_562.jpg\n",
      "Error rate: 0.1724137931034483\n",
      "Error with: Sitting pose 1 (normal)/1_559.jpg\n",
      "Error rate: 0.2\n",
      "Error with: Sitting pose 1 (normal)/1_539.jpg\n",
      "Error rate: 0.1590909090909091\n",
      "Error with: Sitting pose 1 (normal)/1_535.jpg\n",
      "Error rate: 0.16666666666666666\n",
      "Error with: Sitting pose 1 (normal)/1_0_510.jpg\n",
      "Error rate: 0.14285714285714285\n",
      "Error with: Sitting pose 1 (normal)/1_477.jpg\n",
      "Error rate: 0.12195121951219512\n",
      "Error with: Sitting pose 1 (normal)/1_473.jpg\n",
      "Error rate: 0.12941176470588237\n",
      "Error with: Sitting pose 1 (normal)/1_472.jpg\n",
      "Error rate: 0.13953488372093023\n",
      "Error with: Sitting pose 1 (normal)/1_420.jpg\n",
      "Error rate: 0.11818181818181818\n",
      "Error with: Sitting pose 1 (normal)/1_0_382.jpg\n",
      "Error rate: 0.10218978102189781\n",
      "Error with: Sitting pose 1 (normal)/1_377.jpg\n",
      "Error rate: 0.1079136690647482\n",
      "Error with: Sitting pose 1 (normal)/1_0_371.jpg\n",
      "Error rate: 0.11267605633802817\n",
      "Error with: Sitting pose 1 (normal)/1_354.jpg\n",
      "Error rate: 0.11333333333333333\n",
      "Error with: Sitting pose 1 (normal)/1_347.jpg\n",
      "Error rate: 0.11538461538461539\n",
      "Error with: Sitting pose 1 (normal)/1_0_337.jpg\n",
      "Error rate: 0.11728395061728394\n",
      "Error with: Sitting pose 1 (normal)/1_321.jpg\n",
      "Error rate: 0.11494252873563218\n",
      "Error with: Sitting pose 1 (normal)/1_307.jpg\n",
      "Error rate: 0.11475409836065574\n",
      "Error with: Sitting pose 1 (normal)/1_293.jpg\n",
      "Error rate: 0.1164021164021164\n",
      "Error with: Sitting pose 1 (normal)/1_285.jpg\n",
      "Error rate: 0.11855670103092783\n",
      "Error with: Sitting pose 1 (normal)/1_279.jpg\n",
      "Error rate: 0.12060301507537688\n",
      "Error with: Sitting pose 1 (normal)/1_277.jpg\n",
      "Error rate: 0.12437810945273632\n",
      "Error with: Sitting pose 1 (normal)/1_263.jpg\n",
      "Error rate: 0.12440191387559808\n",
      "Error with: Sitting pose 1 (normal)/1_256.jpg\n",
      "Error rate: 0.12558139534883722\n",
      "Error with: Sitting pose 1 (normal)/1_245.jpg\n",
      "Error rate: 0.12556053811659193\n",
      "Error with: Sitting pose 1 (normal)/1_237.jpg\n",
      "Error rate: 0.12554112554112554\n",
      "Error with: Sitting pose 1 (normal)/1_233.jpg\n",
      "Error rate: 0.12931034482758622\n",
      "Error with: Sitting pose 1 (normal)/1_231.jpg\n",
      "Error rate: 0.13247863247863248\n",
      "Error with: Sitting pose 1 (normal)/1_229.jpg\n",
      "Error rate: 0.13559322033898305\n",
      "Error with: Sitting pose 1 (normal)/1_223.jpg\n",
      "Error rate: 0.1375\n",
      "Error with: Sitting pose 1 (normal)/1_213.jpg\n",
      "Error rate: 0.13821138211382114\n"
     ]
    }
   ],
   "source": [
    "from PIL import Image\n",
    "from tqdm.notebook import tqdm\n",
    "\n",
    "image_counter = 0\n",
    "error_counter = 0\n",
    "\n",
    "for i in tqdm(range(len(file_list))):\n",
    "    f = open(\"Yoga-82/yoga_dataset_links/\" + file_list[i], 'r');\n",
    "    lines = f.readlines();\n",
    "    f.close();\n",
    "    \n",
    "    for j in tqdm(range(len(lines))):\n",
    "        image_counter += 1\n",
    "        #print(lines[j])\n",
    "        splits = lines[j].split('\\t')\n",
    "        img_path = splits[0];\n",
    "        link = splits[1].rstrip('\\n');\n",
    "        \n",
    "        folder_name, img_name = img_path.split(\"/\");\n",
    "        if(j == 0):\n",
    "            if(not os.path.isdir(\"Images/\" + folder_name)):\n",
    "                os.mkdir(\"Images/\" + folder_name)\n",
    "        os.system(\"wget -O '\" + \"./Images/\" + folder_name + \"/\" + img_name + \"' \" + link)\n",
    "        try:\n",
    "            img = Image.open(\"./Images/\" + folder_name + \"/\" + img_name)\n",
    "            img.verify()     # to veify if its an img\n",
    "            img.close()     #to close img and free memory space\n",
    "        except (IOError, SyntaxError) as e:\n",
    "            print(\"Error with:\", img_path)\n",
    "            error_counter +=1\n",
    "            print(\"Error rate:\", error_counter / image_counter)\n"
   ]
  },
  {
   "cell_type": "code",
   "execution_count": null,
   "id": "d3ae80d4",
   "metadata": {},
   "outputs": [],
   "source": [
    "! mkdir Test"
   ]
  },
  {
   "cell_type": "code",
   "execution_count": null,
   "id": "8cfd0e77",
   "metadata": {},
   "outputs": [],
   "source": [
    "# test data            \n",
    "f = open(\"Yoga-82/yoga_test.txt\");\n",
    "lines = f.readlines();\n",
    "f.close();"
   ]
  },
  {
   "cell_type": "code",
   "execution_count": null,
   "id": "9f183d05",
   "metadata": {},
   "outputs": [],
   "source": [
    "import os\n",
    "from tqdm.notebook import tqdm\n",
    "\n",
    "for i in tqdm(range(len(lines))):\n",
    "    folder_name, img_name = lines[i].split(\",\")[0].split(\"/\");\n",
    "    if(not os.path.isdir(\"Test/\" + folder_name)):\n",
    "        os.mkdir(\"Test/\" + folder_name);\n",
    "    os.system(\"mv \" + \"Images/\" + folder_name + \"/\" + img_name + \" Test/\" + folder_name + \"/\")"
   ]
  }
 ],
 "metadata": {
  "kernelspec": {
   "display_name": "Python 3",
   "language": "python3",
   "name": "python3"
  },
  "language_info": {
   "codemirror_mode": {
    "name": "ipython",
    "version": 3
   },
   "file_extension": ".py",
   "mimetype": "text/x-python",
   "name": "python",
   "nbconvert_exporter": "python",
   "pygments_lexer": "ipython3",
   "version": "3.8.8"
  }
 },
 "nbformat": 4,
 "nbformat_minor": 5
}
