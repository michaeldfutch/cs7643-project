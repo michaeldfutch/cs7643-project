{
 "cells": [
  {
   "cell_type": "code",
   "execution_count": null,
   "id": "96e5931b",
   "metadata": {},
   "outputs": [],
   "source": [
    "import torch\n",
    "from classes.Dataset import Dataset\n",
    "from models.cnn import VanillaCNN\n",
    "\n",
    "# read labels\n",
    "labels = torch.load('./Images/labels/labels.pt')\n",
    "partition = torch.load('./Images/labels/partition.pt')\n",
    "\n",
    "training_set = Dataset(partition['train'], labels)\n",
    "training_generator = torch.utils.data.DataLoader(training_set, **params)\n",
    "\n",
    "validation_set = Dataset(partition['test'], labels)\n",
    "validation_generator = torch.utils.data.DataLoader(validation_set, **params)\n",
    "\n",
    "\n",
    "# CUDA for PyTorch\n",
    "use_cuda = torch.cuda.is_available()\n",
    "device = torch.device(\"cuda:0\" if use_cuda else \"cpu\")\n",
    "torch.backends.cudnn.benchmark = True\n",
    "\n",
    "# define model/loss function\n",
    "model = VanillaCNN()\n",
    "criterion = torch.nn.CrossEntropyLoss()\n",
    "params = {'batch_size': 64,\n",
    "          'shuffle': True,\n",
    "          'num_workers': 6,\n",
    "          'learning_rate': 0.001,\n",
    "          'epochs':10,\n",
    "          'reg': 0.0005,\n",
    "          'momentum':0.9,\n",
    "         }\n",
    "\n",
    "if torch.cuda.is_available():\n",
    "    model = model.cuda()\n",
    "\n",
    "optimizer = torch.optim.SGD(model.parameters(), params['learning_rate'],\n",
    "                                momentum=params['momentum'],\n",
    "                                weight_decay=params['reg'])\n",
    "\n",
    "\n",
    "\n"
   ]
  }
 ],
 "metadata": {
  "kernelspec": {
   "display_name": "Python 3 (ipykernel)",
   "language": "python",
   "name": "python3"
  },
  "language_info": {
   "codemirror_mode": {
    "name": "ipython",
    "version": 3
   },
   "file_extension": ".py",
   "mimetype": "text/x-python",
   "name": "python",
   "nbconvert_exporter": "python",
   "pygments_lexer": "ipython3",
   "version": "3.9.7"
  }
 },
 "nbformat": 4,
 "nbformat_minor": 5
}
